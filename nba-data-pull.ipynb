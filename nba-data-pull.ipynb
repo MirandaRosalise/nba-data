{
 "cells": [
  {
   "cell_type": "code",
   "execution_count": 56,
   "metadata": {
    "collapsed": true
   },
   "outputs": [],
   "source": [
    "import pandas as pd\n",
    "import requests\n",
    "import numpy as np\n",
    "import yaml\n",
    "import json\n",
    "import time"
   ]
  },
  {
   "cell_type": "markdown",
   "source": [
    "## NBA Data Pull"
   ],
   "metadata": {
    "collapsed": false
   }
  },
  {
   "cell_type": "code",
   "execution_count": 22,
   "outputs": [],
   "source": [
    "r = requests.get('https://www.balldontlie.io/api/v1/players', params={'per_page': 100})\n",
    "j = json.loads(r.content.decode())\n",
    "pd.DataFrame(j['data'])\n",
    "\n",
    "r_list = [requests.get('https://www.balldontlie.io/api/v1/players', params={'per_page': 100, 'page': n}) for n in range(0, j['meta']['total_pages'])]\n",
    "\n",
    "df_players = pd.concat([pd.json_normalize(json.loads(m.content.decode())['data']) for m in r_list])\n",
    "df_players = df_players.sort_values('id').drop_duplicates().set_index('id')\n",
    "\n",
    "df_players.to_csv('player_list.csv')"
   ],
   "metadata": {
    "collapsed": false
   }
  },
  {
   "cell_type": "code",
   "execution_count": 49,
   "outputs": [],
   "source": [
    "r = requests.get('https://www.balldontlie.io/api/v1/teams', params={'per_page': 100})\n",
    "j = json.loads(r.content.decode())\n",
    "pd.DataFrame(j['data'])\n",
    "\n",
    "r_list = [requests.get('https://www.balldontlie.io/api/v1/teams', params={'per_page': 100, 'page': n}) for n in range(0, j['meta']['total_pages'])]\n",
    "\n",
    "df_teams = pd.concat([pd.json_normalize(json.loads(m.content.decode())['data']) for m in r_list])\n",
    "df_teams = df_teams.sort_values('id').drop_duplicates().set_index('id')\n",
    "\n",
    "df_teams.to_csv('team_list.csv')"
   ],
   "metadata": {
    "collapsed": false
   }
  },
  {
   "cell_type": "code",
   "execution_count": 68,
   "outputs": [],
   "source": [
    "r = requests.get('https://www.balldontlie.io/api/v1/games', params={'per_page': 100})\n",
    "j = json.loads(r.content.decode())\n",
    "pd.DataFrame(j['data'])\n",
    "\n",
    "#rate limit hecks you up here if you don't pace urself\n",
    "\n",
    "r_list = []\n",
    "\n",
    "for i in range(0, j['meta']['total_pages']):\n",
    "    time.sleep(1)\n",
    "    r_list.append(\n",
    "        requests.get('https://www.balldontlie.io/api/v1/games',\n",
    "                     params={'per_page': 100, 'page': i}\n",
    "                     )\n",
    "    )\n",
    "\n",
    "df_games = pd.concat([pd.json_normalize(json.loads(m.content.decode())['data']) for m in r_list])\n",
    "df_games = df_games.sort_values('id').drop_duplicates().set_index('id')\n",
    "\n",
    "df_games.to_csv('game_list.csv')"
   ],
   "metadata": {
    "collapsed": false
   }
  },
  {
   "cell_type": "code",
   "execution_count": 74,
   "outputs": [
    {
     "data": {
      "text/plain": "{'total_pages': 11824,\n 'current_page': 1,\n 'next_page': 2,\n 'per_page': 100,\n 'total_count': 1182335}"
     },
     "execution_count": 74,
     "metadata": {},
     "output_type": "execute_result"
    }
   ],
   "source": [
    "r = requests.get('https://www.balldontlie.io/api/v1/stats', params={'per_page': 100})\n",
    "j = json.loads(r.content.decode())\n",
    "pd.json_normalize(j['data'])\n",
    "j['meta']\n",
    "#rate limit hecks you up here if you don't pace urself"
   ],
   "metadata": {
    "collapsed": false
   }
  },
  {
   "cell_type": "markdown",
   "source": [
    "#### yes we are actually unironically scraping everything all the way back to 1979. Sorry @hi_im_danny"
   ],
   "metadata": {
    "collapsed": false
   }
  },
  {
   "cell_type": "code",
   "execution_count": null,
   "outputs": [],
   "source": [
    "r_list = []\n",
    "\n",
    "for i in range(0, j['meta']['total_pages']):\n",
    "    time.sleep(1)\n",
    "    r = requests.get('https://www.balldontlie.io/api/v1/stats',\n",
    "                     params={'per_page': 100, 'page': i}\n",
    "                     )\n",
    "    r_list.append(r)\n",
    "    with open('stats_json/'+ str(i) + \".json\", \"w\") as file:\n",
    "        file.write(r.content.decode())\n",
    "\n",
    "df_stats = pd.concat([pd.json_normalize(json.loads(m.content.decode())['data']) for m in r_list])\n",
    "df_stats = df_stats.sort_values('id').drop_duplicates().set_index('id')\n",
    "\n",
    "df_games.to_csv('stats_list.csv')"
   ],
   "metadata": {
    "collapsed": false,
    "pycharm": {
     "is_executing": true
    }
   }
  }
 ],
 "metadata": {
  "kernelspec": {
   "display_name": "Python 3",
   "language": "python",
   "name": "python3"
  },
  "language_info": {
   "codemirror_mode": {
    "name": "ipython",
    "version": 2
   },
   "file_extension": ".py",
   "mimetype": "text/x-python",
   "name": "python",
   "nbconvert_exporter": "python",
   "pygments_lexer": "ipython2",
   "version": "2.7.6"
  }
 },
 "nbformat": 4,
 "nbformat_minor": 0
}
